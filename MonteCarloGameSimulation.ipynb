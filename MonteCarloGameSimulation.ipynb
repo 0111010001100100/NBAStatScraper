{
 "cells": [
  {
   "cell_type": "code",
   "execution_count": 1,
   "metadata": {},
   "outputs": [],
   "source": [
    "import pandas as pd\n",
    "import numpy as np\n",
    "import matplotlib.pyplot as plt\n",
    "import sys\n",
    "import random\n",
    "\n",
    "sys.path.append('NBAStatScraper/database/databasePrep/')\n",
    "import prep_games as prep"
   ]
  },
  {
   "cell_type": "code",
   "execution_count": 18,
   "metadata": {},
   "outputs": [],
   "source": [
    "tor_df = prep.prep_season_results('TOR', '2019')\n",
    "tor_df['Tm'] = pd.to_numeric(tor_df['Tm'])\n",
    "tor_df['Opp'] = pd.to_numeric(tor_df['Opp'])\n",
    "gsw_df = prep.prep_season_results('GSW', '2019')\n",
    "gsw_df['Tm'] = pd.to_numeric(gsw_df['Tm'])\n",
    "gsw_df['Opp'] = pd.to_numeric(gsw_df['Opp'])\n",
    "\n",
    "#For playoffs\n",
    "# tor_df = prep.prep_playoff_results('TOR', '2019')\n",
    "# tor_df['Tm'] = pd.to_numeric(tor_df['Tm'])\n",
    "# tor_df['Opp'] = pd.to_numeric(tor_df['Opp'])\n",
    "# gsw_df = prep.prep_playoff_results('GSW', '2019')\n",
    "# gsw_df['Tm'] = pd.to_numeric(gsw_df['Tm'])\n",
    "# gsw_df['Opp'] = pd.to_numeric(gsw_df['Opp'])"
   ]
  },
  {
   "cell_type": "code",
   "execution_count": 19,
   "metadata": {},
   "outputs": [
    {
     "data": {
      "text/plain": [
       "(86.0, 149.0, 0.0, 25.0)"
      ]
     },
     "execution_count": 19,
     "metadata": {},
     "output_type": "execute_result"
    },
    {
     "data": {
      "image/png": "[encoded data removed]",
      "text/plain": [
       "<Figure size 432x288 with 1 Axes>"
      ]
     },
     "metadata": {
      "needs_background": "light"
     },
     "output_type": "display_data"
    }
   ],
   "source": [
    "plt.hist(tor_df.Tm, histtype='stepfilled')\n",
    "plt.hist(gsw_df.Tm, histtype='stepfilled')\n",
    "plt.axis([min([min(tor_df.Tm), min(gsw_df.Tm)]), max([max(tor_df.Tm), max(gsw_df.Tm)]), 0, 25])"
   ]
  },
  {
   "cell_type": "code",
   "execution_count": 20,
   "metadata": {},
   "outputs": [
    {
     "data": {
      "text/plain": [
       "(83.0, 140.0, 0.0, 25.0)"
      ]
     },
     "execution_count": 20,
     "metadata": {},
     "output_type": "execute_result"
    },
    {
     "data": {
      "image/png": "[encoded data removed]",
      "text/plain": [
       "<Figure size 432x288 with 1 Axes>"
      ]
     },
     "metadata": {
      "needs_background": "light"
     },
     "output_type": "display_data"
    }
   ],
   "source": [
    "plt.hist(tor_df.Opp, histtype='stepfilled')\n",
    "plt.hist(gsw_df.Opp, histtype='stepfilled')\n",
    "plt.axis([min([min(tor_df.Opp), min(gsw_df.Opp)]), max([max(tor_df.Opp), max(gsw_df.Opp)]), 0, 25])"
   ]
  },
  {
   "cell_type": "code",
   "execution_count": 21,
   "metadata": {},
   "outputs": [],
   "source": [
    "# Get means and standard deviations of points\n",
    "tor_tm_mean  = tor_df.Tm.mean()\n",
    "tor_tm_std   = tor_df.Tm.std()\n",
    "tor_opp_mean = tor_df.Opp.mean()\n",
    "tor_opp_std  = tor_df.Opp.std()\n",
    "\n",
    "gsw_tm_mean  = gsw_df.Tm.mean()\n",
    "gsw_tm_std   = gsw_df.Tm.std()\n",
    "gsw_opp_mean = gsw_df.Opp.mean()\n",
    "gsw_opp_std  = gsw_df.Opp.std()"
   ]
  },
  {
   "cell_type": "code",
   "execution_count": 22,
   "metadata": {},
   "outputs": [],
   "source": [
    "def simulate_single_game():\n",
    "    tor_score = (random.gauss(tor_tm_mean,tor_tm_std)+random.gauss(gsw_opp_mean,gsw_opp_std))/2\n",
    "    gsw_score = (random.gauss(gsw_tm_mean,gsw_tm_std)+random.gauss(tor_opp_mean,tor_opp_std))/2\n",
    "    if tor_score > gsw_score:\n",
    "        return 'tor'\n",
    "    return 'gsw'"
   ]
  },
  {
   "cell_type": "code",
   "execution_count": 23,
   "metadata": {},
   "outputs": [],
   "source": [
    "def simulate_multiple_games(num):\n",
    "    tor = 0\n",
    "    gsw = 0\n",
    "    for i in range(num):\n",
    "        winner = simulate_single_game()\n",
    "        if winner == 'tor':\n",
    "            tor += 1\n",
    "        else:\n",
    "            gsw += 1\n",
    "    return [tor, gsw]"
   ]
  },
  {
   "cell_type": "code",
   "execution_count": 24,
   "metadata": {},
   "outputs": [
    {
     "name": "stdout",
     "output_type": "stream",
     "text": [
      "Number of games run: 1000\n",
      "Toronto won 505 games. (50.5%)\n",
      "Golden State won 495 games. (49.5%)\n"
     ]
    }
   ],
   "source": [
    "num_games_to_simulate = 1000\n",
    "results = simulate_multiple_games(num_games_to_simulate)\n",
    "print(\"Number of games run: {}\".format(num_games_to_simulate))\n",
    "print(\"Toronto won {} games. ({}%)\".format(results[0], (results[0]/num_games_to_simulate*100)))\n",
    "print(\"Golden State won {} games. ({}%)\".format(results[1], (results[1]/num_games_to_simulate*100)))"
   ]
  },
  {
   "cell_type": "code",
   "execution_count": 25,
   "metadata": {},
   "outputs": [],
   "source": [
    "def simulate_series(num_series):\n",
    "    tor = 0\n",
    "    gsw = 0\n",
    "    for i in range(num_series):\n",
    "        tor_s = 0\n",
    "        gsw_s = 0\n",
    "        while gsw_s < 4 and tor_s < 4:\n",
    "            winner = simulate_single_game()\n",
    "            if winner == 'tor':\n",
    "                tor_s += 1\n",
    "            else:\n",
    "                gsw_s += 1\n",
    "            if tor_s == 4:\n",
    "                tor += 1\n",
    "            elif gsw_s == 4:\n",
    "                gsw += 1\n",
    "    return [tor, gsw]"
   ]
  },
  {
   "cell_type": "code",
   "execution_count": 27,
   "metadata": {},
   "outputs": [
    {
     "name": "stdout",
     "output_type": "stream",
     "text": [
      "Number of series run: 100000\n",
      "Toronto won 48756 series. (48.756%)\n",
      "Golden State won 51244 series. (51.244%)\n"
     ]
    }
   ],
   "source": [
    "num_series_to_simulate = 100000\n",
    "results = simulate_series(num_series_to_simulate)\n",
    "print(\"Number of series run: {}\".format(num_series_to_simulate))\n",
    "print(\"Toronto won {} series. ({}%)\".format(results[0], (results[0]/num_series_to_simulate*100)))\n",
    "print(\"Golden State won {} series. ({}%)\".format(results[1], (results[1]/num_series_to_simulate*100)))"
   ]
  },
  {
   "cell_type": "code",
   "execution_count": null,
   "metadata": {},
   "outputs": [],
   "source": []
  }
 ],
 "metadata": {
  "kernelspec": {
   "display_name": "Python 3",
   "language": "python",
   "name": "python3"
  },
  "language_info": {
   "codemirror_mode": {
    "name": "ipython",
    "version": 3
   },
   "file_extension": ".py",
   "mimetype": "text/x-python",
   "name": "python",
   "nbconvert_exporter": "python",
   "pygments_lexer": "ipython3",
   "version": "3.8.5"
  }
 },
 "nbformat": 4,
 "nbformat_minor": 4
}
