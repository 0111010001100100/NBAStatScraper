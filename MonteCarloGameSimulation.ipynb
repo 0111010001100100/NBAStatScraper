{
 "cells": [
  {
   "cell_type": "code",
   "execution_count": 29,
   "metadata": {},
   "outputs": [],
   "source": [
    "import pandas as pd\n",
    "import numpy as np\n",
    "import matplotlib.pyplot as plt\n",
    "import sys\n",
    "import random\n",
    "\n",
    "sys.path.append('NBAStatScraper/database/databasePrep/')\n",
    "sys.path.append('NBAStatScraper/')\n",
    "import teams\n",
    "import prep_games as prep"
   ]
  },
  {
   "cell_type": "code",
   "execution_count": 18,
   "metadata": {},
   "outputs": [],
   "source": [
    "tor_df = prep.prep_season_results('TOR', '2019')\n",
    "tor_df['Tm'] = pd.to_numeric(tor_df['Tm'])\n",
    "tor_df['Opp'] = pd.to_numeric(tor_df['Opp'])\n",
    "gsw_df = prep.prep_season_results('GSW', '2019')\n",
    "gsw_df['Tm'] = pd.to_numeric(gsw_df['Tm'])\n",
    "gsw_df['Opp'] = pd.to_numeric(gsw_df['Opp'])\n",
    "\n",
    "#For playoffs\n",
    "# tor_df = prep.prep_playoff_results('TOR', '2019')\n",
    "# tor_df['Tm'] = pd.to_numeric(tor_df['Tm'])\n",
    "# tor_df['Opp'] = pd.to_numeric(tor_df['Opp'])\n",
    "# gsw_df = prep.prep_playoff_results('GSW', '2019')\n",
    "# gsw_df['Tm'] = pd.to_numeric(gsw_df['Tm'])\n",
    "# gsw_df['Opp'] = pd.to_numeric(gsw_df['Opp'])"
   ]
  },
  {
   "cell_type": "code",
   "execution_count": 19,
   "metadata": {},
   "outputs": [
    {
     "data": {
      "text/plain": [
       "(86.0, 149.0, 0.0, 25.0)"
      ]
     },
     "execution_count": 19,
     "metadata": {},
     "output_type": "execute_result"
    },
    {
     "data": {
      "image/png": "[encoded data removed]",
      "text/plain": [
       "<Figure size 432x288 with 1 Axes>"
      ]
     },
     "metadata": {
      "needs_background": "light"
     },
     "output_type": "display_data"
    }
   ],
   "source": [
    "plt.hist(tor_df.Tm, histtype='stepfilled')\n",
    "plt.hist(gsw_df.Tm, histtype='stepfilled')\n",
    "plt.axis([min([min(tor_df.Tm), min(gsw_df.Tm)]), max([max(tor_df.Tm), max(gsw_df.Tm)]), 0, 25])"
   ]
  },
  {
   "cell_type": "code",
   "execution_count": 20,
   "metadata": {},
   "outputs": [
    {
     "data": {
      "text/plain": [
       "(83.0, 140.0, 0.0, 25.0)"
      ]
     },
     "execution_count": 20,
     "metadata": {},
     "output_type": "execute_result"
    },
    {
     "data": {
      "image/png": "[encoded data removed]",
      "text/plain": [
       "<Figure size 432x288 with 1 Axes>"
      ]
     },
     "metadata": {
      "needs_background": "light"
     },
     "output_type": "display_data"
    }
   ],
   "source": [
    "plt.hist(tor_df.Opp, histtype='stepfilled')\n",
    "plt.hist(gsw_df.Opp, histtype='stepfilled')\n",
    "plt.axis([min([min(tor_df.Opp), min(gsw_df.Opp)]), max([max(tor_df.Opp), max(gsw_df.Opp)]), 0, 25])"
   ]
  },
  {
   "cell_type": "code",
   "execution_count": 21,
   "metadata": {},
   "outputs": [],
   "source": [
    "# Get means and standard deviations of points\n",
    "tor_tm_mean  = tor_df.Tm.mean()\n",
    "tor_tm_std   = tor_df.Tm.std()\n",
    "tor_opp_mean = tor_df.Opp.mean()\n",
    "tor_opp_std  = tor_df.Opp.std()\n",
    "\n",
    "gsw_tm_mean  = gsw_df.Tm.mean()\n",
    "gsw_tm_std   = gsw_df.Tm.std()\n",
    "gsw_opp_mean = gsw_df.Opp.mean()\n",
    "gsw_opp_std  = gsw_df.Opp.std()"
   ]
  },
  {
   "cell_type": "code",
   "execution_count": 22,
   "metadata": {},
   "outputs": [],
   "source": [
    "def simulate_single_game():\n",
    "    tor_score = (random.gauss(tor_tm_mean,tor_tm_std)+random.gauss(gsw_opp_mean,gsw_opp_std))/2\n",
    "    gsw_score = (random.gauss(gsw_tm_mean,gsw_tm_std)+random.gauss(tor_opp_mean,tor_opp_std))/2\n",
    "    if tor_score > gsw_score:\n",
    "        return 'tor'\n",
    "    return 'gsw'"
   ]
  },
  {
   "cell_type": "code",
   "execution_count": 23,
   "metadata": {},
   "outputs": [],
   "source": [
    "def simulate_multiple_games(num):\n",
    "    tor = 0\n",
    "    gsw = 0\n",
    "    for i in range(num):\n",
    "        winner = simulate_single_game()\n",
    "        if winner == 'tor':\n",
    "            tor += 1\n",
    "        else:\n",
    "            gsw += 1\n",
    "    return [tor, gsw]"
   ]
  },
  {
   "cell_type": "code",
   "execution_count": 24,
   "metadata": {},
   "outputs": [
    {
     "name": "stdout",
     "output_type": "stream",
     "text": [
      "Number of games run: 1000\n",
      "Toronto won 505 games. (50.5%)\n",
      "Golden State won 495 games. (49.5%)\n"
     ]
    }
   ],
   "source": [
    "num_games_to_simulate = 1000\n",
    "results = simulate_multiple_games(num_games_to_simulate)\n",
    "print(\"Number of games run: {}\".format(num_games_to_simulate))\n",
    "print(\"Toronto won {} games. ({}%)\".format(results[0], (results[0]/num_games_to_simulate*100)))\n",
    "print(\"Golden State won {} games. ({}%)\".format(results[1], (results[1]/num_games_to_simulate*100)))"
   ]
  },
  {
   "cell_type": "code",
   "execution_count": 25,
   "metadata": {},
   "outputs": [],
   "source": [
    "def simulate_series(num_series):\n",
    "    tor = 0\n",
    "    gsw = 0\n",
    "    for i in range(num_series):\n",
    "        tor_s = 0\n",
    "        gsw_s = 0\n",
    "        while gsw_s < 4 and tor_s < 4:\n",
    "            winner = simulate_single_game()\n",
    "            if winner == 'tor':\n",
    "                tor_s += 1\n",
    "            else:\n",
    "                gsw_s += 1\n",
    "            if tor_s == 4:\n",
    "                tor += 1\n",
    "            elif gsw_s == 4:\n",
    "                gsw += 1\n",
    "    return [tor, gsw]"
   ]
  },
  {
   "cell_type": "code",
   "execution_count": 27,
   "metadata": {},
   "outputs": [
    {
     "name": "stdout",
     "output_type": "stream",
     "text": [
      "Number of series run: 100000\n",
      "Toronto won 48756 series. (48.756%)\n",
      "Golden State won 51244 series. (51.244%)\n"
     ]
    }
   ],
   "source": [
    "num_series_to_simulate = 100000\n",
    "results = simulate_series(num_series_to_simulate)\n",
    "print(\"Number of series run: {}\".format(num_series_to_simulate))\n",
    "print(\"Toronto won {} series. ({}%)\".format(results[0], (results[0]/num_series_to_simulate*100)))\n",
    "print(\"Golden State won {} series. ({}%)\".format(results[1], (results[1]/num_series_to_simulate*100)))"
   ]
  },
  {
   "cell_type": "code",
   "execution_count": 31,
   "metadata": {},
   "outputs": [],
   "source": [
    "df = teams.get_team_stats('TOR', '2019', 'game')"
   ]
  },
  {
   "cell_type": "code",
   "execution_count": 68,
   "metadata": {},
   "outputs": [],
   "source": [
    "df = df.sort_values(by=['MP'], ascending=False)\n",
    "df = df[df['Rk'] < 11]\n",
    "df = df[['Rk', 'Player', 'MP', 'TRB', 'AST', 'PTS']]\n",
    "df['PPM'] = df['PTS'] / df['MP']\n",
    "df['MPRatio'] = df['MP'] / 48.0\n",
    "sRatio = df['MPRatio'].sum()\n",
    "df['MPRatioAdj'] = df['MPRatio'] - ((sRatio - 5) / 10.0)\n",
    "df['eMP'] = df['MPRatioAdj'] * 48.0\n",
    "df['ePPG'] = df['PPM'] * df['eMP']\n",
    "df['eRB'] = (df['TRB'] / df['MP']) * df['eMP']\n",
    "df['eAST'] = (df['AST'] / df['MP']) * df['eMP']\n",
    "\n",
    "league_ppg = teams.get_league_avg_ppg('2019')"
   ]
  },
  {
   "cell_type": "code",
   "execution_count": 69,
   "metadata": {},
   "outputs": [
    {
     "data": {
      "text/html": [
       "<div>\n",
       "<style scoped>\n",
       "    .dataframe tbody tr th:only-of-type {\n",
       "        vertical-align: middle;\n",
       "    }\n",
       "\n",
       "    .dataframe tbody tr th {\n",
       "        vertical-align: top;\n",
       "    }\n",
       "\n",
       "    .dataframe thead th {\n",
       "        text-align: right;\n",
       "    }\n",
       "</style>\n",
       "<table border=\"1\" class=\"dataframe\">\n",
       "  <thead>\n",
       "    <tr style=\"text-align: right;\">\n",
       "      <th></th>\n",
       "      <th>Rk</th>\n",
       "      <th>Player</th>\n",
       "      <th>MP</th>\n",
       "      <th>TRB</th>\n",
       "      <th>AST</th>\n",
       "      <th>PTS</th>\n",
       "      <th>PPM</th>\n",
       "      <th>MPRatio</th>\n",
       "      <th>MPRatioAdj</th>\n",
       "      <th>eMP</th>\n",
       "      <th>ePPG</th>\n",
       "      <th>eRB</th>\n",
       "      <th>eAST</th>\n",
       "    </tr>\n",
       "  </thead>\n",
       "  <tbody>\n",
       "    <tr>\n",
       "      <th>0</th>\n",
       "      <td>1</td>\n",
       "      <td>Kawhi Leonard</td>\n",
       "      <td>34.0</td>\n",
       "      <td>7.3</td>\n",
       "      <td>3.3</td>\n",
       "      <td>26.6</td>\n",
       "      <td>0.782353</td>\n",
       "      <td>0.708333</td>\n",
       "      <td>0.656250</td>\n",
       "      <td>31.5</td>\n",
       "      <td>24.644118</td>\n",
       "      <td>6.763235</td>\n",
       "      <td>3.057353</td>\n",
       "    </tr>\n",
       "    <tr>\n",
       "      <th>1</th>\n",
       "      <td>2</td>\n",
       "      <td>Kyle Lowry</td>\n",
       "      <td>34.0</td>\n",
       "      <td>4.8</td>\n",
       "      <td>8.7</td>\n",
       "      <td>14.2</td>\n",
       "      <td>0.417647</td>\n",
       "      <td>0.708333</td>\n",
       "      <td>0.656250</td>\n",
       "      <td>31.5</td>\n",
       "      <td>13.155882</td>\n",
       "      <td>4.447059</td>\n",
       "      <td>8.060294</td>\n",
       "    </tr>\n",
       "    <tr>\n",
       "      <th>2</th>\n",
       "      <td>3</td>\n",
       "      <td>Pascal Siakam</td>\n",
       "      <td>31.9</td>\n",
       "      <td>6.9</td>\n",
       "      <td>3.1</td>\n",
       "      <td>16.9</td>\n",
       "      <td>0.529781</td>\n",
       "      <td>0.664583</td>\n",
       "      <td>0.612500</td>\n",
       "      <td>29.4</td>\n",
       "      <td>15.575549</td>\n",
       "      <td>6.359248</td>\n",
       "      <td>2.857053</td>\n",
       "    </tr>\n",
       "    <tr>\n",
       "      <th>3</th>\n",
       "      <td>4</td>\n",
       "      <td>Danny Green</td>\n",
       "      <td>27.7</td>\n",
       "      <td>4.0</td>\n",
       "      <td>1.6</td>\n",
       "      <td>10.3</td>\n",
       "      <td>0.371841</td>\n",
       "      <td>0.577083</td>\n",
       "      <td>0.525000</td>\n",
       "      <td>25.2</td>\n",
       "      <td>9.370397</td>\n",
       "      <td>3.638989</td>\n",
       "      <td>1.455596</td>\n",
       "    </tr>\n",
       "    <tr>\n",
       "      <th>4</th>\n",
       "      <td>5</td>\n",
       "      <td>Fred VanVleet</td>\n",
       "      <td>27.5</td>\n",
       "      <td>2.6</td>\n",
       "      <td>4.8</td>\n",
       "      <td>11.0</td>\n",
       "      <td>0.400000</td>\n",
       "      <td>0.572917</td>\n",
       "      <td>0.520833</td>\n",
       "      <td>25.0</td>\n",
       "      <td>10.000000</td>\n",
       "      <td>2.363636</td>\n",
       "      <td>4.363636</td>\n",
       "    </tr>\n",
       "    <tr>\n",
       "      <th>5</th>\n",
       "      <td>6</td>\n",
       "      <td>Serge Ibaka</td>\n",
       "      <td>27.2</td>\n",
       "      <td>8.1</td>\n",
       "      <td>1.3</td>\n",
       "      <td>15.0</td>\n",
       "      <td>0.551471</td>\n",
       "      <td>0.566667</td>\n",
       "      <td>0.514583</td>\n",
       "      <td>24.7</td>\n",
       "      <td>13.621324</td>\n",
       "      <td>7.355515</td>\n",
       "      <td>1.180515</td>\n",
       "    </tr>\n",
       "    <tr>\n",
       "      <th>6</th>\n",
       "      <td>7</td>\n",
       "      <td>Marc Gasol</td>\n",
       "      <td>24.9</td>\n",
       "      <td>6.6</td>\n",
       "      <td>3.9</td>\n",
       "      <td>9.1</td>\n",
       "      <td>0.365462</td>\n",
       "      <td>0.518750</td>\n",
       "      <td>0.466667</td>\n",
       "      <td>22.4</td>\n",
       "      <td>8.186345</td>\n",
       "      <td>5.937349</td>\n",
       "      <td>3.508434</td>\n",
       "    </tr>\n",
       "    <tr>\n",
       "      <th>7</th>\n",
       "      <td>8</td>\n",
       "      <td>OG Anunoby</td>\n",
       "      <td>20.2</td>\n",
       "      <td>2.9</td>\n",
       "      <td>0.7</td>\n",
       "      <td>7.0</td>\n",
       "      <td>0.346535</td>\n",
       "      <td>0.420833</td>\n",
       "      <td>0.368750</td>\n",
       "      <td>17.7</td>\n",
       "      <td>6.133663</td>\n",
       "      <td>2.541089</td>\n",
       "      <td>0.613366</td>\n",
       "    </tr>\n",
       "    <tr>\n",
       "      <th>8</th>\n",
       "      <td>9</td>\n",
       "      <td>Jeremy Lin</td>\n",
       "      <td>18.8</td>\n",
       "      <td>2.6</td>\n",
       "      <td>2.2</td>\n",
       "      <td>7.0</td>\n",
       "      <td>0.372340</td>\n",
       "      <td>0.391667</td>\n",
       "      <td>0.339583</td>\n",
       "      <td>16.3</td>\n",
       "      <td>6.069149</td>\n",
       "      <td>2.254255</td>\n",
       "      <td>1.907447</td>\n",
       "    </tr>\n",
       "    <tr>\n",
       "      <th>9</th>\n",
       "      <td>10</td>\n",
       "      <td>Jonas Valančiūnas</td>\n",
       "      <td>18.8</td>\n",
       "      <td>7.2</td>\n",
       "      <td>1.0</td>\n",
       "      <td>12.8</td>\n",
       "      <td>0.680851</td>\n",
       "      <td>0.391667</td>\n",
       "      <td>0.339583</td>\n",
       "      <td>16.3</td>\n",
       "      <td>11.097872</td>\n",
       "      <td>6.242553</td>\n",
       "      <td>0.867021</td>\n",
       "    </tr>\n",
       "  </tbody>\n",
       "</table>\n",
       "</div>"
      ],
      "text/plain": [
       "   Rk             Player    MP  TRB  AST   PTS       PPM   MPRatio  \\\n",
       "0   1      Kawhi Leonard  34.0  7.3  3.3  26.6  0.782353  0.708333   \n",
       "1   2         Kyle Lowry  34.0  4.8  8.7  14.2  0.417647  0.708333   \n",
       "2   3      Pascal Siakam  31.9  6.9  3.1  16.9  0.529781  0.664583   \n",
       "3   4        Danny Green  27.7  4.0  1.6  10.3  0.371841  0.577083   \n",
       "4   5      Fred VanVleet  27.5  2.6  4.8  11.0  0.400000  0.572917   \n",
       "5   6        Serge Ibaka  27.2  8.1  1.3  15.0  0.551471  0.566667   \n",
       "6   7         Marc Gasol  24.9  6.6  3.9   9.1  0.365462  0.518750   \n",
       "7   8         OG Anunoby  20.2  2.9  0.7   7.0  0.346535  0.420833   \n",
       "8   9         Jeremy Lin  18.8  2.6  2.2   7.0  0.372340  0.391667   \n",
       "9  10  Jonas Valančiūnas  18.8  7.2  1.0  12.8  0.680851  0.391667   \n",
       "\n",
       "   MPRatioAdj   eMP       ePPG       eRB      eAST  \n",
       "0    0.656250  31.5  24.644118  6.763235  3.057353  \n",
       "1    0.656250  31.5  13.155882  4.447059  8.060294  \n",
       "2    0.612500  29.4  15.575549  6.359248  2.857053  \n",
       "3    0.525000  25.2   9.370397  3.638989  1.455596  \n",
       "4    0.520833  25.0  10.000000  2.363636  4.363636  \n",
       "5    0.514583  24.7  13.621324  7.355515  1.180515  \n",
       "6    0.466667  22.4   8.186345  5.937349  3.508434  \n",
       "7    0.368750  17.7   6.133663  2.541089  0.613366  \n",
       "8    0.339583  16.3   6.069149  2.254255  1.907447  \n",
       "9    0.339583  16.3  11.097872  6.242553  0.867021  "
      ]
     },
     "execution_count": 69,
     "metadata": {},
     "output_type": "execute_result"
    }
   ],
   "source": [
    "df"
   ]
  },
  {
   "cell_type": "code",
   "execution_count": 63,
   "metadata": {},
   "outputs": [
    {
     "data": {
      "text/plain": [
       "240.00000000000006"
      ]
     },
     "execution_count": 63,
     "metadata": {},
     "output_type": "execute_result"
    }
   ],
   "source": [
    "df['eMP'].sum()"
   ]
  },
  {
   "cell_type": "code",
   "execution_count": 81,
   "metadata": {},
   "outputs": [
    {
     "data": {
      "text/plain": [
       "114.4390243902439"
      ]
     },
     "execution_count": 81,
     "metadata": {},
     "output_type": "execute_result"
    }
   ],
   "source": [
    "from scipy.stats import invgauss\n",
    "\n",
    "# rv = invgauss(tor_tm_mean)\n",
    "# print(invgauss.pdf(random.random(), tor_tm_mean))\n",
    "tor_tm_mean"
   ]
  },
  {
   "cell_type": "code",
   "execution_count": null,
   "metadata": {},
   "outputs": [],
   "source": []
  }
 ],
 "metadata": {
  "kernelspec": {
   "display_name": "Python 3",
   "language": "python",
   "name": "python3"
  },
  "language_info": {
   "codemirror_mode": {
    "name": "ipython",
    "version": 3
   },
   "file_extension": ".py",
   "mimetype": "text/x-python",
   "name": "python",
   "nbconvert_exporter": "python",
   "pygments_lexer": "ipython3",
   "version": "3.8.5"
  }
 },
 "nbformat": 4,
 "nbformat_minor": 4
}
